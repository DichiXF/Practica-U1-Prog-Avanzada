{
 "cells": [
  {
   "cell_type": "code",
   "execution_count": 13,
   "metadata": {},
   "outputs": [],
   "source": [
    "# Clase base Persona\n",
    "class Persona:\n",
    "    def __init__(self, nombre: str, email: str):\n",
    "        self.nombre = nombre\n",
    "        self.email = email\n",
    "        print(f\"\\n-- Persona creada --\\nNombre: {self.nombre} | Email: {self.email}\\n-------------------\")"
   ]
  },
  {
   "cell_type": "code",
   "execution_count": 14,
   "metadata": {},
   "outputs": [],
   "source": [
    "# Usuario hereda de Persona\n",
    "class Usuario(Persona):\n",
    "    def __init__(self, nombre: str, email: str):\n",
    "        super().__init__(nombre, email)\n",
    "        self.reservas = []\n",
    "        print(f\"[ Usuario registrado ] Nombre: {self.nombre}\")\n",
    "    \n",
    "    def hacer_reserva(self, reserva):\n",
    "        self.reservas.append(reserva)"
   ]
  },
  {
   "cell_type": "code",
   "execution_count": 15,
   "metadata": {},
   "outputs": [],
   "source": [
    "# Empleado hereda de Persona\n",
    "class Empleado(Persona):\n",
    "    def __init__(self, nombre: str, email: str, rol: str):\n",
    "        super().__init__(nombre, email)\n",
    "        self.rol = rol\n",
    "        print(f\"[ Empleado creado ] Nombre: {self.nombre} | Rol: {self.rol}\")"
   ]
  },
  {
   "cell_type": "code",
   "execution_count": 16,
   "metadata": {},
   "outputs": [],
   "source": [
    "# Clase base Espacio\n",
    "class Espacio:\n",
    "    def __init__(self, nombre: str):\n",
    "        self.nombre = nombre\n",
    "        print(f\"-- Espacio creado --\\nNombre: {self.nombre}\\n-------------------\")"
   ]
  },
  {
   "cell_type": "code",
   "execution_count": 17,
   "metadata": {},
   "outputs": [],
   "source": [
    "# Sala hereda de Espacio\n",
    "class Sala(Espacio):\n",
    "    def __init__(self, nombre: str, tipo: str, capacidad: int):\n",
    "        super().__init__(nombre)\n",
    "        self.tipo = tipo  # 2D, 3D, IMAX\n",
    "        self.capacidad = capacidad\n",
    "        self.asientos_disponibles = capacidad\n",
    "        print(f\"[ Sala creada ] Nombre: {self.nombre} | Tipo: {self.tipo} | Capacidad: {self.capacidad}\")\n",
    "    \n",
    "    def reservar_asientos(self, cantidad: int) -> bool:\n",
    "        if cantidad <= self.asientos_disponibles:\n",
    "            self.asientos_disponibles -= cantidad\n",
    "            return True\n",
    "        return False"
   ]
  },
  {
   "cell_type": "code",
   "execution_count": 18,
   "metadata": {},
   "outputs": [],
   "source": [
    "# Zona de Comida hereda de Espacio\n",
    "class ZonaComida(Espacio):\n",
    "    def __init__(self, nombre: str):\n",
    "        super().__init__(nombre)\n",
    "        self.productos = {}\n",
    "    \n",
    "    def agregar_producto(self, producto: str, precio: float):\n",
    "        self.productos[producto] = precio\n",
    "        print(f\"[ Producto agregado ] {producto} - Precio: ${precio}\")\n"
   ]
  },
  {
   "cell_type": "code",
   "execution_count": 19,
   "metadata": {},
   "outputs": [],
   "source": [
    "# Película\n",
    "class Pelicula:\n",
    "    def __init__(self, titulo: str, duracion: int, clasificacion: str, genero: str):\n",
    "        self.titulo = titulo\n",
    "        self.duracion = duracion\n",
    "        self.clasificacion = clasificacion\n",
    "        self.genero = genero\n",
    "        print(f\"-- Película creada --\\nTítulo: {self.titulo} | Duración: {self.duracion} min\\n-------------------\")"
   ]
  },
  {
   "cell_type": "code",
   "execution_count": 20,
   "metadata": {},
   "outputs": [],
   "source": [
    "# Promoción\n",
    "class Promocion:\n",
    "    def __init__(self, descripcion: str, descuento: float):\n",
    "        self.descripcion = descripcion\n",
    "        self.descuento = descuento  # Porcentaje de descuento\n",
    "        print(f\"[ Promoción creada ] {self.descripcion} - Descuento: {self.descuento * 100}%\")"
   ]
  },
  {
   "cell_type": "code",
   "execution_count": 21,
   "metadata": {},
   "outputs": [],
   "source": [
    "# Función\n",
    "class Funcion:\n",
    "    def __init__(self, pelicula: Pelicula, sala: Sala, horario: str):\n",
    "        self.pelicula = pelicula\n",
    "        self.sala = sala\n",
    "        self.horario = horario\n",
    "        print(f\"-- Función creada --\\nPelícula: {self.pelicula.titulo} | Sala: {self.sala.nombre} | Horario: {self.horario}\\n-------------------\")"
   ]
  },
  {
   "cell_type": "code",
   "execution_count": 22,
   "metadata": {},
   "outputs": [],
   "source": [
    "from typing import Optional\n",
    "# Reserva\n",
    "class Reserva:\n",
    "    def __init__(self, usuario: Usuario, funcion: Funcion, cantidad_asientos: int, promocion: Optional[Promocion] = None):\n",
    "        self.usuario = usuario\n",
    "        self.funcion = funcion\n",
    "        self.cantidad_asientos = cantidad_asientos\n",
    "        self.promocion = promocion\n",
    "        if self.funcion.sala.reservar_asientos(cantidad_asientos):\n",
    "            usuario.hacer_reserva(self)\n",
    "            print(f\"[ Reserva realizada ] Usuario: {usuario.nombre} | Película: {self.funcion.pelicula.titulo} | Horario: {self.funcion.horario}\")\n",
    "        else:\n",
    "            print(\"[ ERROR ] No hay suficientes asientos disponibles.\")"
   ]
  },
  {
   "cell_type": "code",
   "execution_count": null,
   "metadata": {},
   "outputs": [
    {
     "name": "stdout",
     "output_type": "stream",
     "text": [
      "\n",
      "-- Persona creada --\n",
      "Nombre: Carlos Pérez | Email: carlos@email.com\n",
      "-------------------\n",
      "[ Usuario registrado ] Nombre: Carlos Pérez\n",
      "\n",
      "-- Persona creada --\n",
      "Nombre: Ana Gómez | Email: ana@email.com\n",
      "-------------------\n",
      "[ Empleado creado ] Nombre: Ana Gómez | Rol: Administrador\n",
      "-- Película creada --\n",
      "Título: Interstellar | Duración: 169 min\n",
      "-------------------\n",
      "-- Película creada --\n",
      "Título: Inception | Duración: 148 min\n",
      "-------------------\n",
      "-- Espacio creado --\n",
      "Nombre: Sala 1\n",
      "-------------------\n",
      "[ Sala creada ] Nombre: Sala 1 | Tipo: IMAX | Capacidad: 100\n",
      "-- Espacio creado --\n",
      "Nombre: Sala 2\n",
      "-------------------\n",
      "[ Sala creada ] Nombre: Sala 2 | Tipo: 3D | Capacidad: 80\n",
      "-- Función creada --\n",
      "Película: Interstellar | Sala: Sala 1 | Horario: 20:00\n",
      "-------------------\n",
      "-- Función creada --\n",
      "Película: Inception | Sala: Sala 2 | Horario: 18:00\n",
      "-------------------\n",
      "[ Promoción creada ] Descuento 20% - Descuento: 20.0%\n",
      "[ Promoción creada ] Descuento 10% - Descuento: 10.0%\n",
      "[ Reserva realizada ] Usuario: Carlos Pérez | Película: Interstellar | Horario: 20:00\n",
      "[ Reserva realizada ] Usuario: Carlos Pérez | Película: Inception | Horario: 18:00\n",
      "-- Espacio creado --\n",
      "Nombre: Snack Bar\n",
      "-------------------\n",
      "[ Producto agregado ] Palomitas - Precio: $5.0\n",
      "[ Producto agregado ] Refresco - Precio: $3.0\n",
      "\n",
      "========================================\n",
      "  SISTEMA DE RESERVAS DE CINE FINALIZADO\n",
      "========================================\n"
     ]
    }
   ],
   "source": [
    "usuario1 = Usuario(\"Carlos Pérez\", \"carlos@email.com\")\n",
    "empleado1 = Empleado(\"Ana Gómez\", \"ana@email.com\", \"Administrador\")\n",
    "\n",
    "pelicula1 = Pelicula(\"Interstellar\", 169, \"PG-13\", \"Ciencia Ficción\")\n",
    "pelicula2 = Pelicula(\"Inception\", 148, \"PG-13\", \"Ciencia Ficción\")\n",
    "\n",
    "sala1 = Sala(\"Sala 1\", \"IMAX\", 100)\n",
    "sala2 = Sala(\"Sala 2\", \"3D\", 80)\n",
    "\n",
    "funcion1 = Funcion(pelicula1, sala1, \"20:00\")\n",
    "funcion2 = Funcion(pelicula2, sala2, \"18:00\")\n",
    "\n",
    "promocion1 = Promocion(\"Descuento 20%\", 0.20)\n",
    "promocion2 = Promocion(\"Descuento 10%\", 0.10)\n",
    "\n",
    "reserva1 = Reserva(usuario1, funcion1, 2, promocion1)\n",
    "reserva2 = Reserva(usuario1, funcion2, 3)\n",
    "\n",
    "zona_comida = ZonaComida(\"Snack Bar\")\n",
    "zona_comida.agregar_producto(\"Palomitas\", 5.0)\n",
    "zona_comida.agregar_producto(\"Refresco\", 3.0)\n",
    "\n",
    "print(\"\\n========================================\\n  SISTEMA DE RESERVAS DE CINE FINALIZADO\\n========================================\")\n"
   ]
  }
 ],
 "metadata": {
  "kernelspec": {
   "display_name": "Python 3",
   "language": "python",
   "name": "python3"
  },
  "language_info": {
   "codemirror_mode": {
    "name": "ipython",
    "version": 3
   },
   "file_extension": ".py",
   "mimetype": "text/x-python",
   "name": "python",
   "nbconvert_exporter": "python",
   "pygments_lexer": "ipython3",
   "version": "3.12.5"
  }
 },
 "nbformat": 4,
 "nbformat_minor": 2
}
